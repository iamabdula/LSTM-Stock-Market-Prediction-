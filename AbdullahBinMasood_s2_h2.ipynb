{
  "nbformat": 4,
  "nbformat_minor": 0,
  "metadata": {
    "colab": {
      "name": "AbdullahBinMasood_s2_h2.ipynb",
      "provenance": [],
      "collapsed_sections": []
    },
    "kernelspec": {
      "name": "python3",
      "display_name": "Python 3"
    },
    "language_info": {
      "name": "python"
    }
  },
  "cells": [
    {
      "cell_type": "markdown",
      "source": [
        "**Abdullah bin Masood**\n",
        "\n",
        "*Homework 2*\n",
        "\n",
        "# STOCK MARKET PREDICTION"
      ],
      "metadata": {
        "id": "JgiqRZVndgN5"
      }
    },
    {
      "cell_type": "code",
      "execution_count": 1,
      "metadata": {
        "colab": {
          "base_uri": "https://localhost:8080/"
        },
        "id": "V_RIZG8wdW5F",
        "outputId": "5d89fd95-fc85-460d-fd00-8553fa0d4828"
      },
      "outputs": [
        {
          "output_type": "stream",
          "name": "stdout",
          "text": [
            "Cloning into 'Google-Stock-Price-Prediction'...\n",
            "remote: Enumerating objects: 33, done.\u001b[K\n",
            "remote: Total 33 (delta 0), reused 0 (delta 0), pack-reused 33\u001b[K\n",
            "Unpacking objects: 100% (33/33), done.\n"
          ]
        }
      ],
      "source": [
        "!git clone \"https://github.com/Parasgr7/Google-Stock-Price-Prediction.git\""
      ]
    },
    {
      "cell_type": "code",
      "source": [
        "!ls"
      ],
      "metadata": {
        "colab": {
          "base_uri": "https://localhost:8080/"
        },
        "id": "-FjQC-3FgZRr",
        "outputId": "09208ee5-5e3b-4a8c-84cd-a6fa9ed5665a"
      },
      "execution_count": 2,
      "outputs": [
        {
          "output_type": "stream",
          "name": "stdout",
          "text": [
            "Google-Stock-Price-Prediction  sample_data\n"
          ]
        }
      ]
    },
    {
      "cell_type": "code",
      "source": [
        "%cd Google-Stock-Price-Prediction"
      ],
      "metadata": {
        "colab": {
          "base_uri": "https://localhost:8080/"
        },
        "id": "S_OpKf-Wgmu2",
        "outputId": "17408bb9-2706-4371-83e7-f5c3fe842769"
      },
      "execution_count": 3,
      "outputs": [
        {
          "output_type": "stream",
          "name": "stdout",
          "text": [
            "/content/Google-Stock-Price-Prediction\n"
          ]
        }
      ]
    },
    {
      "cell_type": "code",
      "source": [
        "import numpy as np\n",
        "import matplotlib.pyplot as plt\n",
        "import pandas as pd\n",
        "from sklearn.preprocessing import MinMaxScaler\n",
        "from sklearn.model_selection import train_test_split\n",
        "from tensorflow.keras.initializers import HeNormal\n",
        "from keras.models import Sequential\n",
        "from keras.layers import Dense\n",
        "from keras.layers import LSTM\n",
        "from keras.layers import Dropout\n"
      ],
      "metadata": {
        "id": "XkDVv0Vbg5HJ"
      },
      "execution_count": 66,
      "outputs": []
    },
    {
      "cell_type": "markdown",
      "source": [
        "Loading data into pandas"
      ],
      "metadata": {
        "id": "AelvpwEvjUh3"
      }
    },
    {
      "cell_type": "code",
      "source": [
        "data = pd.read_csv(\"Google_Stock_Price_Train.csv\")"
      ],
      "metadata": {
        "id": "_i2cmnoIhRM5"
      },
      "execution_count": 67,
      "outputs": []
    },
    {
      "cell_type": "code",
      "source": [
        "data.head(5)\n"
      ],
      "metadata": {
        "colab": {
          "base_uri": "https://localhost:8080/",
          "height": 215
        },
        "id": "NKnY-Iq8jhts",
        "outputId": "b4d0067f-7245-4c9f-9f5a-cfcc522d8359"
      },
      "execution_count": 68,
      "outputs": [
        {
          "output_type": "execute_result",
          "data": {
            "text/plain": [
              "       Date    Open    High     Low   Close      Volume\n",
              "0  1/3/2012  325.25  332.83  324.97  663.59   7,380,500\n",
              "1  1/4/2012  331.27  333.87  329.08  666.45   5,749,400\n",
              "2  1/5/2012  329.83  330.75  326.89  657.21   6,590,300\n",
              "3  1/6/2012  328.34  328.77  323.68  648.24   5,405,900\n",
              "4  1/9/2012  322.04  322.29  309.46  620.76  11,688,800"
            ],
            "text/html": [
              "\n",
              "  <div id=\"df-9858a667-e449-4b11-9417-738ea5707bbf\">\n",
              "    <div class=\"colab-df-container\">\n",
              "      <div>\n",
              "<style scoped>\n",
              "    .dataframe tbody tr th:only-of-type {\n",
              "        vertical-align: middle;\n",
              "    }\n",
              "\n",
              "    .dataframe tbody tr th {\n",
              "        vertical-align: top;\n",
              "    }\n",
              "\n",
              "    .dataframe thead th {\n",
              "        text-align: right;\n",
              "    }\n",
              "</style>\n",
              "<table border=\"1\" class=\"dataframe\">\n",
              "  <thead>\n",
              "    <tr style=\"text-align: right;\">\n",
              "      <th></th>\n",
              "      <th>Date</th>\n",
              "      <th>Open</th>\n",
              "      <th>High</th>\n",
              "      <th>Low</th>\n",
              "      <th>Close</th>\n",
              "      <th>Volume</th>\n",
              "    </tr>\n",
              "  </thead>\n",
              "  <tbody>\n",
              "    <tr>\n",
              "      <th>0</th>\n",
              "      <td>1/3/2012</td>\n",
              "      <td>325.25</td>\n",
              "      <td>332.83</td>\n",
              "      <td>324.97</td>\n",
              "      <td>663.59</td>\n",
              "      <td>7,380,500</td>\n",
              "    </tr>\n",
              "    <tr>\n",
              "      <th>1</th>\n",
              "      <td>1/4/2012</td>\n",
              "      <td>331.27</td>\n",
              "      <td>333.87</td>\n",
              "      <td>329.08</td>\n",
              "      <td>666.45</td>\n",
              "      <td>5,749,400</td>\n",
              "    </tr>\n",
              "    <tr>\n",
              "      <th>2</th>\n",
              "      <td>1/5/2012</td>\n",
              "      <td>329.83</td>\n",
              "      <td>330.75</td>\n",
              "      <td>326.89</td>\n",
              "      <td>657.21</td>\n",
              "      <td>6,590,300</td>\n",
              "    </tr>\n",
              "    <tr>\n",
              "      <th>3</th>\n",
              "      <td>1/6/2012</td>\n",
              "      <td>328.34</td>\n",
              "      <td>328.77</td>\n",
              "      <td>323.68</td>\n",
              "      <td>648.24</td>\n",
              "      <td>5,405,900</td>\n",
              "    </tr>\n",
              "    <tr>\n",
              "      <th>4</th>\n",
              "      <td>1/9/2012</td>\n",
              "      <td>322.04</td>\n",
              "      <td>322.29</td>\n",
              "      <td>309.46</td>\n",
              "      <td>620.76</td>\n",
              "      <td>11,688,800</td>\n",
              "    </tr>\n",
              "  </tbody>\n",
              "</table>\n",
              "</div>\n",
              "      <button class=\"colab-df-convert\" onclick=\"convertToInteractive('df-9858a667-e449-4b11-9417-738ea5707bbf')\"\n",
              "              title=\"Convert this dataframe to an interactive table.\"\n",
              "              style=\"display:none;\">\n",
              "        \n",
              "  <svg xmlns=\"http://www.w3.org/2000/svg\" height=\"24px\"viewBox=\"0 0 24 24\"\n",
              "       width=\"24px\">\n",
              "    <path d=\"M0 0h24v24H0V0z\" fill=\"none\"/>\n",
              "    <path d=\"M18.56 5.44l.94 2.06.94-2.06 2.06-.94-2.06-.94-.94-2.06-.94 2.06-2.06.94zm-11 1L8.5 8.5l.94-2.06 2.06-.94-2.06-.94L8.5 2.5l-.94 2.06-2.06.94zm10 10l.94 2.06.94-2.06 2.06-.94-2.06-.94-.94-2.06-.94 2.06-2.06.94z\"/><path d=\"M17.41 7.96l-1.37-1.37c-.4-.4-.92-.59-1.43-.59-.52 0-1.04.2-1.43.59L10.3 9.45l-7.72 7.72c-.78.78-.78 2.05 0 2.83L4 21.41c.39.39.9.59 1.41.59.51 0 1.02-.2 1.41-.59l7.78-7.78 2.81-2.81c.8-.78.8-2.07 0-2.86zM5.41 20L4 18.59l7.72-7.72 1.47 1.35L5.41 20z\"/>\n",
              "  </svg>\n",
              "      </button>\n",
              "      \n",
              "  <style>\n",
              "    .colab-df-container {\n",
              "      display:flex;\n",
              "      flex-wrap:wrap;\n",
              "      gap: 12px;\n",
              "    }\n",
              "\n",
              "    .colab-df-convert {\n",
              "      background-color: #E8F0FE;\n",
              "      border: none;\n",
              "      border-radius: 50%;\n",
              "      cursor: pointer;\n",
              "      display: none;\n",
              "      fill: #1967D2;\n",
              "      height: 32px;\n",
              "      padding: 0 0 0 0;\n",
              "      width: 32px;\n",
              "    }\n",
              "\n",
              "    .colab-df-convert:hover {\n",
              "      background-color: #E2EBFA;\n",
              "      box-shadow: 0px 1px 2px rgba(60, 64, 67, 0.3), 0px 1px 3px 1px rgba(60, 64, 67, 0.15);\n",
              "      fill: #174EA6;\n",
              "    }\n",
              "\n",
              "    [theme=dark] .colab-df-convert {\n",
              "      background-color: #3B4455;\n",
              "      fill: #D2E3FC;\n",
              "    }\n",
              "\n",
              "    [theme=dark] .colab-df-convert:hover {\n",
              "      background-color: #434B5C;\n",
              "      box-shadow: 0px 1px 3px 1px rgba(0, 0, 0, 0.15);\n",
              "      filter: drop-shadow(0px 1px 2px rgba(0, 0, 0, 0.3));\n",
              "      fill: #FFFFFF;\n",
              "    }\n",
              "  </style>\n",
              "\n",
              "      <script>\n",
              "        const buttonEl =\n",
              "          document.querySelector('#df-9858a667-e449-4b11-9417-738ea5707bbf button.colab-df-convert');\n",
              "        buttonEl.style.display =\n",
              "          google.colab.kernel.accessAllowed ? 'block' : 'none';\n",
              "\n",
              "        async function convertToInteractive(key) {\n",
              "          const element = document.querySelector('#df-9858a667-e449-4b11-9417-738ea5707bbf');\n",
              "          const dataTable =\n",
              "            await google.colab.kernel.invokeFunction('convertToInteractive',\n",
              "                                                     [key], {});\n",
              "          if (!dataTable) return;\n",
              "\n",
              "          const docLinkHtml = 'Like what you see? Visit the ' +\n",
              "            '<a target=\"_blank\" href=https://colab.research.google.com/notebooks/data_table.ipynb>data table notebook</a>'\n",
              "            + ' to learn more about interactive tables.';\n",
              "          element.innerHTML = '';\n",
              "          dataTable['output_type'] = 'display_data';\n",
              "          await google.colab.output.renderOutput(dataTable, element);\n",
              "          const docLink = document.createElement('div');\n",
              "          docLink.innerHTML = docLinkHtml;\n",
              "          element.appendChild(docLink);\n",
              "        }\n",
              "      </script>\n",
              "    </div>\n",
              "  </div>\n",
              "  "
            ]
          },
          "metadata": {},
          "execution_count": 68
        }
      ]
    },
    {
      "cell_type": "code",
      "source": [
        "data_dyears = []\n",
        "for i, date in enumerate(data.Date):\n",
        "  data_dyears.append(date[-4:])"
      ],
      "metadata": {
        "id": "oIzWnjagjj6c"
      },
      "execution_count": 69,
      "outputs": []
    },
    {
      "cell_type": "code",
      "source": [
        "print (data_dyears)"
      ],
      "metadata": {
        "colab": {
          "base_uri": "https://localhost:8080/"
        },
        "id": "GI4BvbRzl-jo",
        "outputId": "7097370d-1df5-43a9-b62a-08b858e736a8"
      },
      "execution_count": 70,
      "outputs": [
        {
          "output_type": "stream",
          "name": "stdout",
          "text": [
            "['2012', '2012', '2012', '2012', '2012', '2012', '2012', '2012', '2012', '2012', '2012', '2012', '2012', '2012', '2012', '2012', '2012', '2012', '2012', '2012', '2012', '2012', '2012', '2012', '2012', '2012', '2012', '2012', '2012', '2012', '2012', '2012', '2012', '2012', '2012', '2012', '2012', '2012', '2012', '2012', '2012', '2012', '2012', '2012', '2012', '2012', '2012', '2012', '2012', '2012', '2012', '2012', '2012', '2012', '2012', '2012', '2012', '2012', '2012', '2012', '2012', '2012', '2012', '2012', '2012', '2012', '2012', '2012', '2012', '2012', '2012', '2012', '2012', '2012', '2012', '2012', '2012', '2012', '2012', '2012', '2012', '2012', '2012', '2012', '2012', '2012', '2012', '2012', '2012', '2012', '2012', '2012', '2012', '2012', '2012', '2012', '2012', '2012', '2012', '2012', '2012', '2012', '2012', '2012', '2012', '2012', '2012', '2012', '2012', '2012', '2012', '2012', '2012', '2012', '2012', '2012', '2012', '2012', '2012', '2012', '2012', '2012', '2012', '2012', '2012', '2012', '2012', '2012', '2012', '2012', '2012', '2012', '2012', '2012', '2012', '2012', '2012', '2012', '2012', '2012', '2012', '2012', '2012', '2012', '2012', '2012', '2012', '2012', '2012', '2012', '2012', '2012', '2012', '2012', '2012', '2012', '2012', '2012', '2012', '2012', '2012', '2012', '2012', '2012', '2012', '2012', '2012', '2012', '2012', '2012', '2012', '2012', '2012', '2012', '2012', '2012', '2012', '2012', '2012', '2012', '2012', '2012', '2012', '2012', '2012', '2012', '2012', '2012', '2012', '2012', '2012', '2012', '2012', '2012', '2012', '2012', '2012', '2012', '2012', '2012', '2012', '2012', '2012', '2012', '2012', '2012', '2012', '2012', '2012', '2012', '2012', '2012', '2012', '2012', '2012', '2012', '2012', '2012', '2012', '2012', '2012', '2012', '2012', '2012', '2012', '2012', '2012', '2012', '2012', '2012', '2012', '2012', '2012', '2012', '2012', '2012', '2012', '2012', '2012', '2012', '2012', '2012', '2012', '2012', '2012', '2012', '2012', '2012', '2012', '2012', '2013', '2013', '2013', '2013', '2013', '2013', '2013', '2013', '2013', '2013', '2013', '2013', '2013', '2013', '2013', '2013', '2013', '2013', '2013', '2013', '2013', '2013', '2013', '2013', '2013', '2013', '2013', '2013', '2013', '2013', '2013', '2013', '2013', '2013', '2013', '2013', '2013', '2013', '2013', '2013', '2013', '2013', '2013', '2013', '2013', '2013', '2013', '2013', '2013', '2013', '2013', '2013', '2013', '2013', '2013', '2013', '2013', '2013', '2013', '2013', '2013', '2013', '2013', '2013', '2013', '2013', '2013', '2013', '2013', '2013', '2013', '2013', '2013', '2013', '2013', '2013', '2013', '2013', '2013', '2013', '2013', '2013', '2013', '2013', '2013', '2013', '2013', '2013', '2013', '2013', '2013', '2013', '2013', '2013', '2013', '2013', '2013', '2013', '2013', '2013', '2013', '2013', '2013', '2013', '2013', '2013', '2013', '2013', '2013', '2013', '2013', '2013', '2013', '2013', '2013', '2013', '2013', '2013', '2013', '2013', '2013', '2013', '2013', '2013', '2013', '2013', '2013', '2013', '2013', '2013', '2013', '2013', '2013', '2013', '2013', '2013', '2013', '2013', '2013', '2013', '2013', '2013', '2013', '2013', '2013', '2013', '2013', '2013', '2013', '2013', '2013', '2013', '2013', '2013', '2013', '2013', '2013', '2013', '2013', '2013', '2013', '2013', '2013', '2013', '2013', '2013', '2013', '2013', '2013', '2013', '2013', '2013', '2013', '2013', '2013', '2013', '2013', '2013', '2013', '2013', '2013', '2013', '2013', '2013', '2013', '2013', '2013', '2013', '2013', '2013', '2013', '2013', '2013', '2013', '2013', '2013', '2013', '2013', '2013', '2013', '2013', '2013', '2013', '2013', '2013', '2013', '2013', '2013', '2013', '2013', '2013', '2013', '2013', '2013', '2013', '2013', '2013', '2013', '2013', '2013', '2013', '2013', '2013', '2013', '2013', '2013', '2013', '2013', '2013', '2013', '2013', '2013', '2013', '2013', '2013', '2013', '2013', '2013', '2013', '2013', '2013', '2013', '2013', '2013', '2013', '2013', '2013', '2013', '2013', '2013', '2013', '2013', '2014', '2014', '2014', '2014', '2014', '2014', '2014', '2014', '2014', '2014', '2014', '2014', '2014', '2014', '2014', '2014', '2014', '2014', '2014', '2014', '2014', '2014', '2014', '2014', '2014', '2014', '2014', '2014', '2014', '2014', '2014', '2014', '2014', '2014', '2014', '2014', '2014', '2014', '2014', '2014', '2014', '2014', '2014', '2014', '2014', '2014', '2014', '2014', '2014', '2014', '2014', '2014', '2014', '2014', '2014', '2014', '2014', '2014', '2014', '2014', '2014', '2014', '2014', '2014', '2014', '2014', '2014', '2014', '2014', '2014', '2014', '2014', '2014', '2014', '2014', '2014', '2014', '2014', '2014', '2014', '2014', '2014', '2014', '2014', '2014', '2014', '2014', '2014', '2014', '2014', '2014', '2014', '2014', '2014', '2014', '2014', '2014', '2014', '2014', '2014', '2014', '2014', '2014', '2014', '2014', '2014', '2014', '2014', '2014', '2014', '2014', '2014', '2014', '2014', '2014', '2014', '2014', '2014', '2014', '2014', '2014', '2014', '2014', '2014', '2014', '2014', '2014', '2014', '2014', '2014', '2014', '2014', '2014', '2014', '2014', '2014', '2014', '2014', '2014', '2014', '2014', '2014', '2014', '2014', '2014', '2014', '2014', '2014', '2014', '2014', '2014', '2014', '2014', '2014', '2014', '2014', '2014', '2014', '2014', '2014', '2014', '2014', '2014', '2014', '2014', '2014', '2014', '2014', '2014', '2014', '2014', '2014', '2014', '2014', '2014', '2014', '2014', '2014', '2014', '2014', '2014', '2014', '2014', '2014', '2014', '2014', '2014', '2014', '2014', '2014', '2014', '2014', '2014', '2014', '2014', '2014', '2014', '2014', '2014', '2014', '2014', '2014', '2014', '2014', '2014', '2014', '2014', '2014', '2014', '2014', '2014', '2014', '2014', '2014', '2014', '2014', '2014', '2014', '2014', '2014', '2014', '2014', '2014', '2014', '2014', '2014', '2014', '2014', '2014', '2014', '2014', '2014', '2014', '2014', '2014', '2014', '2014', '2014', '2014', '2014', '2014', '2014', '2014', '2014', '2014', '2014', '2014', '2014', '2014', '2014', '2014', '2014', '2015', '2015', '2015', '2015', '2015', '2015', '2015', '2015', '2015', '2015', '2015', '2015', '2015', '2015', '2015', '2015', '2015', '2015', '2015', '2015', '2015', '2015', '2015', '2015', '2015', '2015', '2015', '2015', '2015', '2015', '2015', '2015', '2015', '2015', '2015', '2015', '2015', '2015', '2015', '2015', '2015', '2015', '2015', '2015', '2015', '2015', '2015', '2015', '2015', '2015', '2015', '2015', '2015', '2015', '2015', '2015', '2015', '2015', '2015', '2015', '2015', '2015', '2015', '2015', '2015', '2015', '2015', '2015', '2015', '2015', '2015', '2015', '2015', '2015', '2015', '2015', '2015', '2015', '2015', '2015', '2015', '2015', '2015', '2015', '2015', '2015', '2015', '2015', '2015', '2015', '2015', '2015', '2015', '2015', '2015', '2015', '2015', '2015', '2015', '2015', '2015', '2015', '2015', '2015', '2015', '2015', '2015', '2015', '2015', '2015', '2015', '2015', '2015', '2015', '2015', '2015', '2015', '2015', '2015', '2015', '2015', '2015', '2015', '2015', '2015', '2015', '2015', '2015', '2015', '2015', '2015', '2015', '2015', '2015', '2015', '2015', '2015', '2015', '2015', '2015', '2015', '2015', '2015', '2015', '2015', '2015', '2015', '2015', '2015', '2015', '2015', '2015', '2015', '2015', '2015', '2015', '2015', '2015', '2015', '2015', '2015', '2015', '2015', '2015', '2015', '2015', '2015', '2015', '2015', '2015', '2015', '2015', '2015', '2015', '2015', '2015', '2015', '2015', '2015', '2015', '2015', '2015', '2015', '2015', '2015', '2015', '2015', '2015', '2015', '2015', '2015', '2015', '2015', '2015', '2015', '2015', '2015', '2015', '2015', '2015', '2015', '2015', '2015', '2015', '2015', '2015', '2015', '2015', '2015', '2015', '2015', '2015', '2015', '2015', '2015', '2015', '2015', '2015', '2015', '2015', '2015', '2015', '2015', '2015', '2015', '2015', '2015', '2015', '2015', '2015', '2015', '2015', '2015', '2015', '2015', '2015', '2015', '2015', '2015', '2015', '2015', '2015', '2015', '2015', '2015', '2015', '2015', '2015', '2015', '2015', '2015', '2015', '2016', '2016', '2016', '2016', '2016', '2016', '2016', '2016', '2016', '2016', '2016', '2016', '2016', '2016', '2016', '2016', '2016', '2016', '2016', '2016', '2016', '2016', '2016', '2016', '2016', '2016', '2016', '2016', '2016', '2016', '2016', '2016', '2016', '2016', '2016', '2016', '2016', '2016', '2016', '2016', '2016', '2016', '2016', '2016', '2016', '2016', '2016', '2016', '2016', '2016', '2016', '2016', '2016', '2016', '2016', '2016', '2016', '2016', '2016', '2016', '2016', '2016', '2016', '2016', '2016', '2016', '2016', '2016', '2016', '2016', '2016', '2016', '2016', '2016', '2016', '2016', '2016', '2016', '2016', '2016', '2016', '2016', '2016', '2016', '2016', '2016', '2016', '2016', '2016', '2016', '2016', '2016', '2016', '2016', '2016', '2016', '2016', '2016', '2016', '2016', '2016', '2016', '2016', '2016', '2016', '2016', '2016', '2016', '2016', '2016', '2016', '2016', '2016', '2016', '2016', '2016', '2016', '2016', '2016', '2016', '2016', '2016', '2016', '2016', '2016', '2016', '2016', '2016', '2016', '2016', '2016', '2016', '2016', '2016', '2016', '2016', '2016', '2016', '2016', '2016', '2016', '2016', '2016', '2016', '2016', '2016', '2016', '2016', '2016', '2016', '2016', '2016', '2016', '2016', '2016', '2016', '2016', '2016', '2016', '2016', '2016', '2016', '2016', '2016', '2016', '2016', '2016', '2016', '2016', '2016', '2016', '2016', '2016', '2016', '2016', '2016', '2016', '2016', '2016', '2016', '2016', '2016', '2016', '2016', '2016', '2016', '2016', '2016', '2016', '2016', '2016', '2016', '2016', '2016', '2016', '2016', '2016', '2016', '2016', '2016', '2016', '2016', '2016', '2016', '2016', '2016', '2016', '2016', '2016', '2016', '2016', '2016', '2016', '2016', '2016', '2016', '2016', '2016', '2016', '2016', '2016', '2016', '2016', '2016', '2016', '2016', '2016', '2016', '2016', '2016', '2016', '2016', '2016', '2016', '2016', '2016', '2016', '2016', '2016', '2016', '2016', '2016', '2016', '2016', '2016', '2016', '2016', '2016', '2016', '2016', '2016', '2016']\n"
          ]
        }
      ]
    },
    {
      "cell_type": "markdown",
      "source": [
        "Standardise fun:"
      ],
      "metadata": {
        "id": "DcQ3YjmVmt4F"
      }
    },
    {
      "cell_type": "code",
      "source": [
        "def standardise(x):\n",
        "  x = x - np.mean(x) \n",
        "  x = x / np.std(x)\n",
        "  return x"
      ],
      "metadata": {
        "id": "AhP6bcP0mBMd"
      },
      "execution_count": 71,
      "outputs": []
    },
    {
      "cell_type": "code",
      "source": [
        "data['Year'] = data_dyears\n",
        "data['Open'] = standardise(data['Open'])\n",
        "data.head(5)"
      ],
      "metadata": {
        "colab": {
          "base_uri": "https://localhost:8080/",
          "height": 215
        },
        "id": "F-8CekXsm8ww",
        "outputId": "83f3dd63-b83b-42a4-8718-b08cbdf5d094"
      },
      "execution_count": 72,
      "outputs": [
        {
          "output_type": "execute_result",
          "data": {
            "text/plain": [
              "       Date      Open    High     Low   Close      Volume  Year\n",
              "0  1/3/2012 -1.372855  332.83  324.97  663.59   7,380,500  2012\n",
              "1  1/4/2012 -1.333209  333.87  329.08  666.45   5,749,400  2012\n",
              "2  1/5/2012 -1.342692  330.75  326.89  657.21   6,590,300  2012\n",
              "3  1/6/2012 -1.352505  328.77  323.68  648.24   5,405,900  2012\n",
              "4  1/9/2012 -1.393995  322.29  309.46  620.76  11,688,800  2012"
            ],
            "text/html": [
              "\n",
              "  <div id=\"df-2aa4d648-eb54-4eec-a880-107465c5a6e7\">\n",
              "    <div class=\"colab-df-container\">\n",
              "      <div>\n",
              "<style scoped>\n",
              "    .dataframe tbody tr th:only-of-type {\n",
              "        vertical-align: middle;\n",
              "    }\n",
              "\n",
              "    .dataframe tbody tr th {\n",
              "        vertical-align: top;\n",
              "    }\n",
              "\n",
              "    .dataframe thead th {\n",
              "        text-align: right;\n",
              "    }\n",
              "</style>\n",
              "<table border=\"1\" class=\"dataframe\">\n",
              "  <thead>\n",
              "    <tr style=\"text-align: right;\">\n",
              "      <th></th>\n",
              "      <th>Date</th>\n",
              "      <th>Open</th>\n",
              "      <th>High</th>\n",
              "      <th>Low</th>\n",
              "      <th>Close</th>\n",
              "      <th>Volume</th>\n",
              "      <th>Year</th>\n",
              "    </tr>\n",
              "  </thead>\n",
              "  <tbody>\n",
              "    <tr>\n",
              "      <th>0</th>\n",
              "      <td>1/3/2012</td>\n",
              "      <td>-1.372855</td>\n",
              "      <td>332.83</td>\n",
              "      <td>324.97</td>\n",
              "      <td>663.59</td>\n",
              "      <td>7,380,500</td>\n",
              "      <td>2012</td>\n",
              "    </tr>\n",
              "    <tr>\n",
              "      <th>1</th>\n",
              "      <td>1/4/2012</td>\n",
              "      <td>-1.333209</td>\n",
              "      <td>333.87</td>\n",
              "      <td>329.08</td>\n",
              "      <td>666.45</td>\n",
              "      <td>5,749,400</td>\n",
              "      <td>2012</td>\n",
              "    </tr>\n",
              "    <tr>\n",
              "      <th>2</th>\n",
              "      <td>1/5/2012</td>\n",
              "      <td>-1.342692</td>\n",
              "      <td>330.75</td>\n",
              "      <td>326.89</td>\n",
              "      <td>657.21</td>\n",
              "      <td>6,590,300</td>\n",
              "      <td>2012</td>\n",
              "    </tr>\n",
              "    <tr>\n",
              "      <th>3</th>\n",
              "      <td>1/6/2012</td>\n",
              "      <td>-1.352505</td>\n",
              "      <td>328.77</td>\n",
              "      <td>323.68</td>\n",
              "      <td>648.24</td>\n",
              "      <td>5,405,900</td>\n",
              "      <td>2012</td>\n",
              "    </tr>\n",
              "    <tr>\n",
              "      <th>4</th>\n",
              "      <td>1/9/2012</td>\n",
              "      <td>-1.393995</td>\n",
              "      <td>322.29</td>\n",
              "      <td>309.46</td>\n",
              "      <td>620.76</td>\n",
              "      <td>11,688,800</td>\n",
              "      <td>2012</td>\n",
              "    </tr>\n",
              "  </tbody>\n",
              "</table>\n",
              "</div>\n",
              "      <button class=\"colab-df-convert\" onclick=\"convertToInteractive('df-2aa4d648-eb54-4eec-a880-107465c5a6e7')\"\n",
              "              title=\"Convert this dataframe to an interactive table.\"\n",
              "              style=\"display:none;\">\n",
              "        \n",
              "  <svg xmlns=\"http://www.w3.org/2000/svg\" height=\"24px\"viewBox=\"0 0 24 24\"\n",
              "       width=\"24px\">\n",
              "    <path d=\"M0 0h24v24H0V0z\" fill=\"none\"/>\n",
              "    <path d=\"M18.56 5.44l.94 2.06.94-2.06 2.06-.94-2.06-.94-.94-2.06-.94 2.06-2.06.94zm-11 1L8.5 8.5l.94-2.06 2.06-.94-2.06-.94L8.5 2.5l-.94 2.06-2.06.94zm10 10l.94 2.06.94-2.06 2.06-.94-2.06-.94-.94-2.06-.94 2.06-2.06.94z\"/><path d=\"M17.41 7.96l-1.37-1.37c-.4-.4-.92-.59-1.43-.59-.52 0-1.04.2-1.43.59L10.3 9.45l-7.72 7.72c-.78.78-.78 2.05 0 2.83L4 21.41c.39.39.9.59 1.41.59.51 0 1.02-.2 1.41-.59l7.78-7.78 2.81-2.81c.8-.78.8-2.07 0-2.86zM5.41 20L4 18.59l7.72-7.72 1.47 1.35L5.41 20z\"/>\n",
              "  </svg>\n",
              "      </button>\n",
              "      \n",
              "  <style>\n",
              "    .colab-df-container {\n",
              "      display:flex;\n",
              "      flex-wrap:wrap;\n",
              "      gap: 12px;\n",
              "    }\n",
              "\n",
              "    .colab-df-convert {\n",
              "      background-color: #E8F0FE;\n",
              "      border: none;\n",
              "      border-radius: 50%;\n",
              "      cursor: pointer;\n",
              "      display: none;\n",
              "      fill: #1967D2;\n",
              "      height: 32px;\n",
              "      padding: 0 0 0 0;\n",
              "      width: 32px;\n",
              "    }\n",
              "\n",
              "    .colab-df-convert:hover {\n",
              "      background-color: #E2EBFA;\n",
              "      box-shadow: 0px 1px 2px rgba(60, 64, 67, 0.3), 0px 1px 3px 1px rgba(60, 64, 67, 0.15);\n",
              "      fill: #174EA6;\n",
              "    }\n",
              "\n",
              "    [theme=dark] .colab-df-convert {\n",
              "      background-color: #3B4455;\n",
              "      fill: #D2E3FC;\n",
              "    }\n",
              "\n",
              "    [theme=dark] .colab-df-convert:hover {\n",
              "      background-color: #434B5C;\n",
              "      box-shadow: 0px 1px 3px 1px rgba(0, 0, 0, 0.15);\n",
              "      filter: drop-shadow(0px 1px 2px rgba(0, 0, 0, 0.3));\n",
              "      fill: #FFFFFF;\n",
              "    }\n",
              "  </style>\n",
              "\n",
              "      <script>\n",
              "        const buttonEl =\n",
              "          document.querySelector('#df-2aa4d648-eb54-4eec-a880-107465c5a6e7 button.colab-df-convert');\n",
              "        buttonEl.style.display =\n",
              "          google.colab.kernel.accessAllowed ? 'block' : 'none';\n",
              "\n",
              "        async function convertToInteractive(key) {\n",
              "          const element = document.querySelector('#df-2aa4d648-eb54-4eec-a880-107465c5a6e7');\n",
              "          const dataTable =\n",
              "            await google.colab.kernel.invokeFunction('convertToInteractive',\n",
              "                                                     [key], {});\n",
              "          if (!dataTable) return;\n",
              "\n",
              "          const docLinkHtml = 'Like what you see? Visit the ' +\n",
              "            '<a target=\"_blank\" href=https://colab.research.google.com/notebooks/data_table.ipynb>data table notebook</a>'\n",
              "            + ' to learn more about interactive tables.';\n",
              "          element.innerHTML = '';\n",
              "          dataTable['output_type'] = 'display_data';\n",
              "          await google.colab.output.renderOutput(dataTable, element);\n",
              "          const docLink = document.createElement('div');\n",
              "          docLink.innerHTML = docLinkHtml;\n",
              "          element.appendChild(docLink);\n",
              "        }\n",
              "      </script>\n",
              "    </div>\n",
              "  </div>\n",
              "  "
            ]
          },
          "metadata": {},
          "execution_count": 72
        }
      ]
    },
    {
      "cell_type": "code",
      "source": [
        "data_30_days = []\n",
        "\n",
        "data_next_day = []\n",
        "\n",
        "for year in ['2012', '2013', '2014', '2015']:\n",
        "  data_open = list(data.loc[data['Year'] == year].Open)\n",
        "  # print(data.loc[data['Year'] == year])\n",
        "  for i in range(30, len(data_open)-1):\n",
        "    data_30_days.append(data_open[i-30:i])\n",
        "    data_next_day.append(data_open[i+1])\n",
        "\n",
        "data_30_days = np.array(data_30_days)\n",
        "data_next_day = np.array(data_next_day)\n"
      ],
      "metadata": {
        "id": "M546_HZUnJdc"
      },
      "execution_count": 74,
      "outputs": []
    },
    {
      "cell_type": "code",
      "source": [
        "data_30_days.shape"
      ],
      "metadata": {
        "colab": {
          "base_uri": "https://localhost:8080/"
        },
        "id": "DsRrsuplrqx0",
        "outputId": "168e892c-2caf-4731-e8b9-9ae8859da027"
      },
      "execution_count": 75,
      "outputs": [
        {
          "output_type": "execute_result",
          "data": {
            "text/plain": [
              "(882, 30)"
            ]
          },
          "metadata": {},
          "execution_count": 75
        }
      ]
    },
    {
      "cell_type": "code",
      "source": [
        "X_train, X_test, Y_train, Y_test = train_test_split(data_30_days, data_next_day, test_size=0.33, random_state=42)\n"
      ],
      "metadata": {
        "id": "jxTlv7ivou-E"
      },
      "execution_count": 76,
      "outputs": []
    },
    {
      "cell_type": "code",
      "source": [
        "X_train.shape\n"
      ],
      "metadata": {
        "colab": {
          "base_uri": "https://localhost:8080/"
        },
        "id": "qcbWTknKqdYZ",
        "outputId": "556fd646-509c-4154-dbb7-449ebdaf9379"
      },
      "execution_count": 77,
      "outputs": [
        {
          "output_type": "execute_result",
          "data": {
            "text/plain": [
              "(590, 30)"
            ]
          },
          "metadata": {},
          "execution_count": 77
        }
      ]
    },
    {
      "cell_type": "code",
      "source": [
        "initializer = HeNormal()\n",
        "\n",
        "model = Sequential()\n",
        "model.add(LSTM(30, input_shape = (X_train.shape[1], 1), return_sequences = True, kernel_initializer=initializer, activation = 'relu'))\n",
        "model.add(LSTM(20, activation = 'relu', return_sequences = True))\n",
        "model.add(LSTM(10, activation = 'relu', return_sequences = True))\n",
        "model.add(LSTM(5, activation = 'relu'))\n",
        "\n",
        "model.add(Dense(1))"
      ],
      "metadata": {
        "id": "T-I-6PN7rktX"
      },
      "execution_count": 78,
      "outputs": []
    },
    {
      "cell_type": "code",
      "source": [
        "model.compile(optimizer = 'adam', loss = 'mean_squared_error')\n",
        "history = model.fit(X_train, Y_train, epochs = 225, validation_data=(X_test, Y_test))"
      ],
      "metadata": {
        "colab": {
          "base_uri": "https://localhost:8080/"
        },
        "id": "50Hs5TLlsFLZ",
        "outputId": "5a9f51f7-0be1-441a-d008-25fd013655e8"
      },
      "execution_count": 79,
      "outputs": [
        {
          "output_type": "stream",
          "name": "stdout",
          "text": [
            "Epoch 1/225\n",
            "19/19 [==============================] - 6s 84ms/step - loss: 0.3478 - val_loss: 0.2048\n",
            "Epoch 2/225\n",
            "19/19 [==============================] - 1s 50ms/step - loss: 0.1563 - val_loss: 0.1787\n",
            "Epoch 3/225\n",
            "19/19 [==============================] - 1s 50ms/step - loss: 0.1317 - val_loss: 0.1428\n",
            "Epoch 4/225\n",
            "19/19 [==============================] - 1s 50ms/step - loss: 0.0896 - val_loss: 0.0471\n",
            "Epoch 5/225\n",
            "19/19 [==============================] - 2s 85ms/step - loss: 0.0504 - val_loss: 0.0450\n",
            "Epoch 6/225\n",
            "19/19 [==============================] - 1s 51ms/step - loss: 0.0392 - val_loss: 0.0335\n",
            "Epoch 7/225\n",
            "19/19 [==============================] - 1s 51ms/step - loss: 0.0336 - val_loss: 0.0322\n",
            "Epoch 8/225\n",
            "19/19 [==============================] - 1s 50ms/step - loss: 0.0517 - val_loss: 0.0405\n",
            "Epoch 9/225\n",
            "19/19 [==============================] - 1s 49ms/step - loss: 0.0321 - val_loss: 0.0327\n",
            "Epoch 10/225\n",
            "19/19 [==============================] - 1s 50ms/step - loss: 0.0298 - val_loss: 0.0278\n",
            "Epoch 11/225\n",
            "19/19 [==============================] - 1s 51ms/step - loss: 0.0282 - val_loss: 0.0277\n",
            "Epoch 12/225\n",
            "19/19 [==============================] - 1s 50ms/step - loss: 0.0281 - val_loss: 0.0284\n",
            "Epoch 13/225\n",
            "19/19 [==============================] - 1s 51ms/step - loss: 0.0268 - val_loss: 0.0247\n",
            "Epoch 14/225\n",
            "19/19 [==============================] - 1s 50ms/step - loss: 0.0243 - val_loss: 0.0273\n",
            "Epoch 15/225\n",
            "19/19 [==============================] - 1s 50ms/step - loss: 0.0241 - val_loss: 0.0235\n",
            "Epoch 16/225\n",
            "19/19 [==============================] - 1s 50ms/step - loss: 0.0238 - val_loss: 0.0218\n",
            "Epoch 17/225\n",
            "19/19 [==============================] - 1s 51ms/step - loss: 0.0252 - val_loss: 0.0252\n",
            "Epoch 18/225\n",
            "19/19 [==============================] - 1s 50ms/step - loss: 0.0291 - val_loss: 0.0316\n",
            "Epoch 19/225\n",
            "19/19 [==============================] - 1s 50ms/step - loss: 0.0241 - val_loss: 0.0217\n",
            "Epoch 20/225\n",
            "19/19 [==============================] - 1s 50ms/step - loss: 0.0229 - val_loss: 0.0222\n",
            "Epoch 21/225\n",
            "19/19 [==============================] - 1s 51ms/step - loss: 0.0218 - val_loss: 0.0218\n",
            "Epoch 22/225\n",
            "19/19 [==============================] - 1s 51ms/step - loss: 0.0207 - val_loss: 0.0208\n",
            "Epoch 23/225\n",
            "19/19 [==============================] - 1s 51ms/step - loss: 0.0201 - val_loss: 0.0232\n",
            "Epoch 24/225\n",
            "19/19 [==============================] - 1s 51ms/step - loss: 0.0193 - val_loss: 0.0208\n",
            "Epoch 25/225\n",
            "19/19 [==============================] - 1s 49ms/step - loss: 0.0192 - val_loss: 0.0181\n",
            "Epoch 26/225\n",
            "19/19 [==============================] - 1s 51ms/step - loss: 0.0180 - val_loss: 0.0182\n",
            "Epoch 27/225\n",
            "19/19 [==============================] - 1s 50ms/step - loss: 0.0177 - val_loss: 0.0160\n",
            "Epoch 28/225\n",
            "19/19 [==============================] - 1s 50ms/step - loss: 0.0152 - val_loss: 0.0152\n",
            "Epoch 29/225\n",
            "19/19 [==============================] - 1s 51ms/step - loss: 0.0139 - val_loss: 0.0137\n",
            "Epoch 30/225\n",
            "19/19 [==============================] - 1s 51ms/step - loss: 0.0145 - val_loss: 0.0132\n",
            "Epoch 31/225\n",
            "19/19 [==============================] - 1s 49ms/step - loss: 0.0144 - val_loss: 0.0172\n",
            "Epoch 32/225\n",
            "19/19 [==============================] - 1s 50ms/step - loss: 0.0140 - val_loss: 0.0121\n",
            "Epoch 33/225\n",
            "19/19 [==============================] - 1s 52ms/step - loss: 0.0130 - val_loss: 0.0134\n",
            "Epoch 34/225\n",
            "19/19 [==============================] - 1s 51ms/step - loss: 0.0117 - val_loss: 0.0118\n",
            "Epoch 35/225\n",
            "19/19 [==============================] - 1s 51ms/step - loss: 0.0126 - val_loss: 0.0120\n",
            "Epoch 36/225\n",
            "19/19 [==============================] - 1s 51ms/step - loss: 0.0129 - val_loss: 0.0117\n",
            "Epoch 37/225\n",
            "19/19 [==============================] - 1s 51ms/step - loss: 0.0123 - val_loss: 0.0126\n",
            "Epoch 38/225\n",
            "19/19 [==============================] - 1s 51ms/step - loss: 0.0128 - val_loss: 0.0117\n",
            "Epoch 39/225\n",
            "19/19 [==============================] - 1s 51ms/step - loss: 0.0114 - val_loss: 0.0132\n",
            "Epoch 40/225\n",
            "19/19 [==============================] - 1s 49ms/step - loss: 0.0117 - val_loss: 0.0107\n",
            "Epoch 41/225\n",
            "19/19 [==============================] - 1s 50ms/step - loss: 0.0109 - val_loss: 0.0104\n",
            "Epoch 42/225\n",
            "19/19 [==============================] - 1s 51ms/step - loss: 0.0109 - val_loss: 0.0101\n",
            "Epoch 43/225\n",
            "19/19 [==============================] - 1s 51ms/step - loss: 0.0098 - val_loss: 0.0091\n",
            "Epoch 44/225\n",
            "19/19 [==============================] - 1s 52ms/step - loss: 0.0098 - val_loss: 0.0107\n",
            "Epoch 45/225\n",
            "19/19 [==============================] - 1s 51ms/step - loss: 0.0098 - val_loss: 0.0100\n",
            "Epoch 46/225\n",
            "19/19 [==============================] - 1s 52ms/step - loss: 0.0088 - val_loss: 0.0084\n",
            "Epoch 47/225\n",
            "19/19 [==============================] - 1s 51ms/step - loss: 0.0094 - val_loss: 0.0083\n",
            "Epoch 48/225\n",
            "19/19 [==============================] - 2s 88ms/step - loss: 0.0094 - val_loss: 0.0103\n",
            "Epoch 49/225\n",
            "19/19 [==============================] - 2s 78ms/step - loss: 0.0093 - val_loss: 0.0123\n",
            "Epoch 50/225\n",
            "19/19 [==============================] - 1s 51ms/step - loss: 0.0090 - val_loss: 0.0082\n",
            "Epoch 51/225\n",
            "19/19 [==============================] - 1s 52ms/step - loss: 0.0100 - val_loss: 0.0079\n",
            "Epoch 52/225\n",
            "19/19 [==============================] - 1s 51ms/step - loss: 0.0096 - val_loss: 0.0099\n",
            "Epoch 53/225\n",
            "19/19 [==============================] - 1s 52ms/step - loss: 0.0086 - val_loss: 0.0099\n",
            "Epoch 54/225\n",
            "19/19 [==============================] - 1s 52ms/step - loss: 0.0084 - val_loss: 0.0092\n",
            "Epoch 55/225\n",
            "19/19 [==============================] - 1s 52ms/step - loss: 0.0078 - val_loss: 0.0071\n",
            "Epoch 56/225\n",
            "19/19 [==============================] - 1s 64ms/step - loss: 0.0077 - val_loss: 0.0072\n",
            "Epoch 57/225\n",
            "19/19 [==============================] - 1s 57ms/step - loss: 0.0073 - val_loss: 0.0104\n",
            "Epoch 58/225\n",
            "19/19 [==============================] - 1s 50ms/step - loss: 0.0083 - val_loss: 0.0071\n",
            "Epoch 59/225\n",
            "19/19 [==============================] - 1s 50ms/step - loss: 0.0077 - val_loss: 0.0075\n",
            "Epoch 60/225\n",
            "19/19 [==============================] - 1s 50ms/step - loss: 0.0079 - val_loss: 0.0080\n",
            "Epoch 61/225\n",
            "19/19 [==============================] - 1s 50ms/step - loss: 0.0072 - val_loss: 0.0067\n",
            "Epoch 62/225\n",
            "19/19 [==============================] - 1s 52ms/step - loss: 0.0060 - val_loss: 0.0075\n",
            "Epoch 63/225\n",
            "19/19 [==============================] - 1s 51ms/step - loss: 0.0073 - val_loss: 0.0059\n",
            "Epoch 64/225\n",
            "19/19 [==============================] - 1s 53ms/step - loss: 0.0064 - val_loss: 0.0069\n",
            "Epoch 65/225\n",
            "19/19 [==============================] - 1s 50ms/step - loss: 0.0064 - val_loss: 0.0063\n",
            "Epoch 66/225\n",
            "19/19 [==============================] - 1s 51ms/step - loss: 0.0061 - val_loss: 0.0070\n",
            "Epoch 67/225\n",
            "19/19 [==============================] - 1s 51ms/step - loss: 0.0058 - val_loss: 0.0059\n",
            "Epoch 68/225\n",
            "19/19 [==============================] - 1s 50ms/step - loss: 0.0063 - val_loss: 0.0059\n",
            "Epoch 69/225\n",
            "19/19 [==============================] - 1s 51ms/step - loss: 0.0065 - val_loss: 0.0069\n",
            "Epoch 70/225\n",
            "19/19 [==============================] - 1s 50ms/step - loss: 0.0069 - val_loss: 0.0057\n",
            "Epoch 71/225\n",
            "19/19 [==============================] - 1s 50ms/step - loss: 0.0054 - val_loss: 0.0060\n",
            "Epoch 72/225\n",
            "19/19 [==============================] - 1s 50ms/step - loss: 0.0053 - val_loss: 0.0062\n",
            "Epoch 73/225\n",
            "19/19 [==============================] - 1s 50ms/step - loss: 0.0058 - val_loss: 0.0058\n",
            "Epoch 74/225\n",
            "19/19 [==============================] - 1s 50ms/step - loss: 0.0062 - val_loss: 0.0056\n",
            "Epoch 75/225\n",
            "19/19 [==============================] - 1s 53ms/step - loss: 0.0056 - val_loss: 0.0060\n",
            "Epoch 76/225\n",
            "19/19 [==============================] - 1s 51ms/step - loss: 0.0058 - val_loss: 0.0073\n",
            "Epoch 77/225\n",
            "19/19 [==============================] - 1s 51ms/step - loss: 0.0050 - val_loss: 0.0063\n",
            "Epoch 78/225\n",
            "19/19 [==============================] - 1s 52ms/step - loss: 0.0064 - val_loss: 0.0076\n",
            "Epoch 79/225\n",
            "19/19 [==============================] - 1s 51ms/step - loss: 0.0064 - val_loss: 0.0063\n",
            "Epoch 80/225\n",
            "19/19 [==============================] - 1s 51ms/step - loss: 0.0047 - val_loss: 0.0059\n",
            "Epoch 81/225\n",
            "19/19 [==============================] - 1s 50ms/step - loss: 0.0046 - val_loss: 0.0052\n",
            "Epoch 82/225\n",
            "19/19 [==============================] - 1s 51ms/step - loss: 0.0046 - val_loss: 0.0058\n",
            "Epoch 83/225\n",
            "19/19 [==============================] - 1s 52ms/step - loss: 0.0048 - val_loss: 0.0060\n",
            "Epoch 84/225\n",
            "19/19 [==============================] - 1s 52ms/step - loss: 0.0051 - val_loss: 0.0073\n",
            "Epoch 85/225\n",
            "19/19 [==============================] - 1s 52ms/step - loss: 0.0051 - val_loss: 0.0068\n",
            "Epoch 86/225\n",
            "19/19 [==============================] - 1s 52ms/step - loss: 0.0052 - val_loss: 0.0071\n",
            "Epoch 87/225\n",
            "19/19 [==============================] - 1s 52ms/step - loss: 0.0053 - val_loss: 0.0064\n",
            "Epoch 88/225\n",
            "19/19 [==============================] - 1s 51ms/step - loss: 0.0050 - val_loss: 0.0071\n",
            "Epoch 89/225\n",
            "19/19 [==============================] - 1s 51ms/step - loss: 0.0058 - val_loss: 0.0076\n",
            "Epoch 90/225\n",
            "19/19 [==============================] - 1s 50ms/step - loss: 0.0063 - val_loss: 0.0057\n",
            "Epoch 91/225\n",
            "19/19 [==============================] - 1s 51ms/step - loss: 0.0056 - val_loss: 0.0064\n",
            "Epoch 92/225\n",
            "19/19 [==============================] - 1s 50ms/step - loss: 0.0049 - val_loss: 0.0060\n",
            "Epoch 93/225\n",
            "19/19 [==============================] - 1s 51ms/step - loss: 0.0047 - val_loss: 0.0058\n",
            "Epoch 94/225\n",
            "19/19 [==============================] - 1s 52ms/step - loss: 0.0045 - val_loss: 0.0056\n",
            "Epoch 95/225\n",
            "19/19 [==============================] - 1s 51ms/step - loss: 0.0051 - val_loss: 0.0052\n",
            "Epoch 96/225\n",
            "19/19 [==============================] - 1s 51ms/step - loss: 0.0047 - val_loss: 0.0057\n",
            "Epoch 97/225\n",
            "19/19 [==============================] - 1s 51ms/step - loss: 0.0047 - val_loss: 0.0072\n",
            "Epoch 98/225\n",
            "19/19 [==============================] - 1s 50ms/step - loss: 0.0049 - val_loss: 0.0051\n",
            "Epoch 99/225\n",
            "19/19 [==============================] - 1s 50ms/step - loss: 0.0043 - val_loss: 0.0060\n",
            "Epoch 100/225\n",
            "19/19 [==============================] - 1s 50ms/step - loss: 0.0042 - val_loss: 0.0053\n",
            "Epoch 101/225\n",
            "19/19 [==============================] - 1s 51ms/step - loss: 0.0039 - val_loss: 0.0051\n",
            "Epoch 102/225\n",
            "19/19 [==============================] - 1s 52ms/step - loss: 0.0045 - val_loss: 0.0060\n",
            "Epoch 103/225\n",
            "19/19 [==============================] - 1s 51ms/step - loss: 0.0045 - val_loss: 0.0057\n",
            "Epoch 104/225\n",
            "19/19 [==============================] - 1s 52ms/step - loss: 0.0041 - val_loss: 0.0052\n",
            "Epoch 105/225\n",
            "19/19 [==============================] - 1s 51ms/step - loss: 0.0039 - val_loss: 0.0054\n",
            "Epoch 106/225\n",
            "19/19 [==============================] - 1s 51ms/step - loss: 0.0043 - val_loss: 0.0056\n",
            "Epoch 107/225\n",
            "19/19 [==============================] - 1s 51ms/step - loss: 0.0041 - val_loss: 0.0066\n",
            "Epoch 108/225\n",
            "19/19 [==============================] - 1s 53ms/step - loss: 0.0048 - val_loss: 0.0074\n",
            "Epoch 109/225\n",
            "19/19 [==============================] - 1s 51ms/step - loss: 0.0046 - val_loss: 0.0053\n",
            "Epoch 110/225\n",
            "19/19 [==============================] - 1s 51ms/step - loss: 0.0041 - val_loss: 0.0048\n",
            "Epoch 111/225\n",
            "19/19 [==============================] - 1s 53ms/step - loss: 0.0042 - val_loss: 0.0079\n",
            "Epoch 112/225\n",
            "19/19 [==============================] - 1s 52ms/step - loss: 0.0044 - val_loss: 0.0053\n",
            "Epoch 113/225\n",
            "19/19 [==============================] - 1s 52ms/step - loss: 0.0037 - val_loss: 0.0059\n",
            "Epoch 114/225\n",
            "19/19 [==============================] - 1s 53ms/step - loss: 0.0039 - val_loss: 0.0051\n",
            "Epoch 115/225\n",
            "19/19 [==============================] - 1s 54ms/step - loss: 0.0042 - val_loss: 0.0058\n",
            "Epoch 116/225\n",
            "19/19 [==============================] - 1s 52ms/step - loss: 0.0035 - val_loss: 0.0052\n",
            "Epoch 117/225\n",
            "19/19 [==============================] - 1s 54ms/step - loss: 0.0040 - val_loss: 0.0057\n",
            "Epoch 118/225\n",
            "19/19 [==============================] - 1s 53ms/step - loss: 0.0035 - val_loss: 0.0050\n",
            "Epoch 119/225\n",
            "19/19 [==============================] - 1s 52ms/step - loss: 0.0035 - val_loss: 0.0060\n",
            "Epoch 120/225\n",
            "19/19 [==============================] - 1s 51ms/step - loss: 0.0043 - val_loss: 0.0054\n",
            "Epoch 121/225\n",
            "19/19 [==============================] - 1s 51ms/step - loss: 0.0042 - val_loss: 0.0053\n",
            "Epoch 122/225\n",
            "19/19 [==============================] - 1s 52ms/step - loss: 0.0034 - val_loss: 0.0052\n",
            "Epoch 123/225\n",
            "19/19 [==============================] - 1s 50ms/step - loss: 0.0036 - val_loss: 0.0058\n",
            "Epoch 124/225\n",
            "19/19 [==============================] - 1s 51ms/step - loss: 0.0033 - val_loss: 0.0050\n",
            "Epoch 125/225\n",
            "19/19 [==============================] - 1s 51ms/step - loss: 0.0033 - val_loss: 0.0062\n",
            "Epoch 126/225\n",
            "19/19 [==============================] - 1s 51ms/step - loss: 0.0037 - val_loss: 0.0051\n",
            "Epoch 127/225\n",
            "19/19 [==============================] - 1s 50ms/step - loss: 0.0039 - val_loss: 0.0063\n",
            "Epoch 128/225\n",
            "19/19 [==============================] - 1s 51ms/step - loss: 0.0037 - val_loss: 0.0055\n",
            "Epoch 129/225\n",
            "19/19 [==============================] - 1s 53ms/step - loss: 0.0036 - val_loss: 0.0050\n",
            "Epoch 130/225\n",
            "19/19 [==============================] - 1s 52ms/step - loss: 0.0032 - val_loss: 0.0056\n",
            "Epoch 131/225\n",
            "19/19 [==============================] - 1s 50ms/step - loss: 0.0037 - val_loss: 0.0057\n",
            "Epoch 132/225\n",
            "19/19 [==============================] - 1s 51ms/step - loss: 0.0037 - val_loss: 0.0049\n",
            "Epoch 133/225\n",
            "19/19 [==============================] - 1s 51ms/step - loss: 0.0032 - val_loss: 0.0047\n",
            "Epoch 134/225\n",
            "19/19 [==============================] - 1s 50ms/step - loss: 0.0036 - val_loss: 0.0061\n",
            "Epoch 135/225\n",
            "19/19 [==============================] - 1s 50ms/step - loss: 0.0035 - val_loss: 0.0053\n",
            "Epoch 136/225\n",
            "19/19 [==============================] - 1s 51ms/step - loss: 0.0034 - val_loss: 0.0050\n",
            "Epoch 137/225\n",
            "19/19 [==============================] - 1s 50ms/step - loss: 0.0031 - val_loss: 0.0048\n",
            "Epoch 138/225\n",
            "19/19 [==============================] - 1s 51ms/step - loss: 0.0032 - val_loss: 0.0062\n",
            "Epoch 139/225\n",
            "19/19 [==============================] - 1s 51ms/step - loss: 0.0032 - val_loss: 0.0050\n",
            "Epoch 140/225\n",
            "19/19 [==============================] - 1s 51ms/step - loss: 0.0034 - val_loss: 0.0063\n",
            "Epoch 141/225\n",
            "19/19 [==============================] - 1s 50ms/step - loss: 0.0036 - val_loss: 0.0068\n",
            "Epoch 142/225\n",
            "19/19 [==============================] - 1s 50ms/step - loss: 0.0038 - val_loss: 0.0054\n",
            "Epoch 143/225\n",
            "19/19 [==============================] - 1s 51ms/step - loss: 0.0033 - val_loss: 0.0047\n",
            "Epoch 144/225\n",
            "19/19 [==============================] - 1s 51ms/step - loss: 0.0033 - val_loss: 0.0056\n",
            "Epoch 145/225\n",
            "19/19 [==============================] - 1s 51ms/step - loss: 0.0034 - val_loss: 0.0056\n",
            "Epoch 146/225\n",
            "19/19 [==============================] - 1s 52ms/step - loss: 0.0035 - val_loss: 0.0050\n",
            "Epoch 147/225\n",
            "19/19 [==============================] - 1s 51ms/step - loss: 0.0030 - val_loss: 0.0071\n",
            "Epoch 148/225\n",
            "19/19 [==============================] - 1s 51ms/step - loss: 0.0035 - val_loss: 0.0055\n",
            "Epoch 149/225\n",
            "19/19 [==============================] - 1s 51ms/step - loss: 0.0033 - val_loss: 0.0047\n",
            "Epoch 150/225\n",
            "19/19 [==============================] - 1s 52ms/step - loss: 0.0034 - val_loss: 0.0047\n",
            "Epoch 151/225\n",
            "19/19 [==============================] - 1s 51ms/step - loss: 0.0033 - val_loss: 0.0051\n",
            "Epoch 152/225\n",
            "19/19 [==============================] - 1s 52ms/step - loss: 0.0035 - val_loss: 0.0047\n",
            "Epoch 153/225\n",
            "19/19 [==============================] - 1s 52ms/step - loss: 0.0030 - val_loss: 0.0050\n",
            "Epoch 154/225\n",
            "19/19 [==============================] - 1s 51ms/step - loss: 0.0032 - val_loss: 0.0051\n",
            "Epoch 155/225\n",
            "19/19 [==============================] - 1s 51ms/step - loss: 0.0030 - val_loss: 0.0058\n",
            "Epoch 156/225\n",
            "19/19 [==============================] - 1s 51ms/step - loss: 0.0030 - val_loss: 0.0067\n",
            "Epoch 157/225\n",
            "19/19 [==============================] - 1s 52ms/step - loss: 0.0032 - val_loss: 0.0055\n",
            "Epoch 158/225\n",
            "19/19 [==============================] - 1s 51ms/step - loss: 0.0034 - val_loss: 0.0058\n",
            "Epoch 159/225\n",
            "19/19 [==============================] - 1s 52ms/step - loss: 0.0032 - val_loss: 0.0058\n",
            "Epoch 160/225\n",
            "19/19 [==============================] - 1s 54ms/step - loss: 0.0034 - val_loss: 0.0061\n",
            "Epoch 161/225\n",
            "19/19 [==============================] - 1s 52ms/step - loss: 0.0030 - val_loss: 0.0051\n",
            "Epoch 162/225\n",
            "19/19 [==============================] - 1s 50ms/step - loss: 0.0034 - val_loss: 0.0070\n",
            "Epoch 163/225\n",
            "19/19 [==============================] - 1s 51ms/step - loss: 0.0035 - val_loss: 0.0055\n",
            "Epoch 164/225\n",
            "19/19 [==============================] - 1s 51ms/step - loss: 0.0032 - val_loss: 0.0067\n",
            "Epoch 165/225\n",
            "19/19 [==============================] - 1s 52ms/step - loss: 0.0035 - val_loss: 0.0067\n",
            "Epoch 166/225\n",
            "19/19 [==============================] - 1s 52ms/step - loss: 0.0040 - val_loss: 0.0120\n",
            "Epoch 167/225\n",
            "19/19 [==============================] - 1s 52ms/step - loss: 0.0049 - val_loss: 0.0056\n",
            "Epoch 168/225\n",
            "19/19 [==============================] - 1s 52ms/step - loss: 0.0038 - val_loss: 0.0052\n",
            "Epoch 169/225\n",
            "19/19 [==============================] - 1s 51ms/step - loss: 0.0034 - val_loss: 0.0058\n",
            "Epoch 170/225\n",
            "19/19 [==============================] - 1s 52ms/step - loss: 0.0032 - val_loss: 0.0061\n",
            "Epoch 171/225\n",
            "19/19 [==============================] - 1s 52ms/step - loss: 0.0030 - val_loss: 0.0051\n",
            "Epoch 172/225\n",
            "19/19 [==============================] - 1s 51ms/step - loss: 0.0036 - val_loss: 0.0064\n",
            "Epoch 173/225\n",
            "19/19 [==============================] - 1s 52ms/step - loss: 0.0040 - val_loss: 0.0063\n",
            "Epoch 174/225\n",
            "19/19 [==============================] - 1s 51ms/step - loss: 0.0035 - val_loss: 0.0058\n",
            "Epoch 175/225\n",
            "19/19 [==============================] - 1s 51ms/step - loss: 0.0034 - val_loss: 0.0053\n",
            "Epoch 176/225\n",
            "19/19 [==============================] - 1s 52ms/step - loss: 0.0031 - val_loss: 0.0057\n",
            "Epoch 177/225\n",
            "19/19 [==============================] - 1s 51ms/step - loss: 0.0029 - val_loss: 0.0066\n",
            "Epoch 178/225\n",
            "19/19 [==============================] - 1s 52ms/step - loss: 0.0031 - val_loss: 0.0056\n",
            "Epoch 179/225\n",
            "19/19 [==============================] - 1s 54ms/step - loss: 0.0029 - val_loss: 0.0048\n",
            "Epoch 180/225\n",
            "19/19 [==============================] - 1s 52ms/step - loss: 0.0030 - val_loss: 0.0059\n",
            "Epoch 181/225\n",
            "19/19 [==============================] - 1s 52ms/step - loss: 0.0032 - val_loss: 0.0055\n",
            "Epoch 182/225\n",
            "19/19 [==============================] - 1s 51ms/step - loss: 0.0031 - val_loss: 0.0049\n",
            "Epoch 183/225\n",
            "19/19 [==============================] - 1s 52ms/step - loss: 0.0029 - val_loss: 0.0053\n",
            "Epoch 184/225\n",
            "19/19 [==============================] - 1s 54ms/step - loss: 0.0029 - val_loss: 0.0065\n",
            "Epoch 185/225\n",
            "19/19 [==============================] - 1s 51ms/step - loss: 0.0033 - val_loss: 0.0061\n",
            "Epoch 186/225\n",
            "19/19 [==============================] - 1s 52ms/step - loss: 0.0032 - val_loss: 0.0048\n",
            "Epoch 187/225\n",
            "19/19 [==============================] - 1s 53ms/step - loss: 0.0032 - val_loss: 0.0060\n",
            "Epoch 188/225\n",
            "19/19 [==============================] - 1s 51ms/step - loss: 0.0029 - val_loss: 0.0063\n",
            "Epoch 189/225\n",
            "19/19 [==============================] - 1s 51ms/step - loss: 0.0031 - val_loss: 0.0058\n",
            "Epoch 190/225\n",
            "19/19 [==============================] - 1s 52ms/step - loss: 0.0031 - val_loss: 0.0055\n",
            "Epoch 191/225\n",
            "19/19 [==============================] - 1s 50ms/step - loss: 0.0034 - val_loss: 0.0075\n",
            "Epoch 192/225\n",
            "19/19 [==============================] - 1s 51ms/step - loss: 0.0033 - val_loss: 0.0056\n",
            "Epoch 193/225\n",
            "19/19 [==============================] - 1s 51ms/step - loss: 0.0028 - val_loss: 0.0053\n",
            "Epoch 194/225\n",
            "19/19 [==============================] - 1s 52ms/step - loss: 0.0030 - val_loss: 0.0052\n",
            "Epoch 195/225\n",
            "19/19 [==============================] - 1s 51ms/step - loss: 0.0029 - val_loss: 0.0070\n",
            "Epoch 196/225\n",
            "19/19 [==============================] - 1s 51ms/step - loss: 0.0028 - val_loss: 0.0060\n",
            "Epoch 197/225\n",
            "19/19 [==============================] - 1s 51ms/step - loss: 0.0032 - val_loss: 0.0060\n",
            "Epoch 198/225\n",
            "19/19 [==============================] - 1s 51ms/step - loss: 0.0029 - val_loss: 0.0052\n",
            "Epoch 199/225\n",
            "19/19 [==============================] - 1s 51ms/step - loss: 0.0025 - val_loss: 0.0048\n",
            "Epoch 200/225\n",
            "19/19 [==============================] - 1s 51ms/step - loss: 0.0026 - val_loss: 0.0054\n",
            "Epoch 201/225\n",
            "19/19 [==============================] - 1s 52ms/step - loss: 0.0026 - val_loss: 0.0057\n",
            "Epoch 202/225\n",
            "19/19 [==============================] - 1s 51ms/step - loss: 0.0030 - val_loss: 0.0058\n",
            "Epoch 203/225\n",
            "19/19 [==============================] - 1s 50ms/step - loss: 0.0028 - val_loss: 0.0055\n",
            "Epoch 204/225\n",
            "19/19 [==============================] - 1s 52ms/step - loss: 0.0029 - val_loss: 0.0057\n",
            "Epoch 205/225\n",
            "19/19 [==============================] - 1s 53ms/step - loss: 0.0028 - val_loss: 0.0057\n",
            "Epoch 206/225\n",
            "19/19 [==============================] - 1s 52ms/step - loss: 0.0028 - val_loss: 0.0058\n",
            "Epoch 207/225\n",
            "19/19 [==============================] - 1s 52ms/step - loss: 0.0042 - val_loss: 0.0076\n",
            "Epoch 208/225\n",
            "19/19 [==============================] - 1s 51ms/step - loss: 0.0046 - val_loss: 0.0056\n",
            "Epoch 209/225\n",
            "19/19 [==============================] - 1s 52ms/step - loss: 0.0040 - val_loss: 0.0060\n",
            "Epoch 210/225\n",
            "19/19 [==============================] - 1s 52ms/step - loss: 0.0035 - val_loss: 0.0052\n",
            "Epoch 211/225\n",
            "19/19 [==============================] - 1s 52ms/step - loss: 0.0029 - val_loss: 0.0059\n",
            "Epoch 212/225\n",
            "19/19 [==============================] - 1s 51ms/step - loss: 0.0031 - val_loss: 0.0064\n",
            "Epoch 213/225\n",
            "19/19 [==============================] - 1s 52ms/step - loss: 0.0029 - val_loss: 0.0060\n",
            "Epoch 214/225\n",
            "19/19 [==============================] - 1s 52ms/step - loss: 0.0029 - val_loss: 0.0051\n",
            "Epoch 215/225\n",
            "19/19 [==============================] - 1s 52ms/step - loss: 0.0028 - val_loss: 0.0055\n",
            "Epoch 216/225\n",
            "19/19 [==============================] - 1s 55ms/step - loss: 0.0026 - val_loss: 0.0057\n",
            "Epoch 217/225\n",
            "19/19 [==============================] - 1s 53ms/step - loss: 0.0027 - val_loss: 0.0062\n",
            "Epoch 218/225\n",
            "19/19 [==============================] - 1s 52ms/step - loss: 0.0027 - val_loss: 0.0057\n",
            "Epoch 219/225\n",
            "19/19 [==============================] - 1s 53ms/step - loss: 0.0026 - val_loss: 0.0070\n",
            "Epoch 220/225\n",
            "19/19 [==============================] - 1s 52ms/step - loss: 0.0028 - val_loss: 0.0069\n",
            "Epoch 221/225\n",
            "19/19 [==============================] - 1s 51ms/step - loss: 0.0031 - val_loss: 0.0068\n",
            "Epoch 222/225\n",
            "19/19 [==============================] - 1s 52ms/step - loss: 0.0028 - val_loss: 0.0059\n",
            "Epoch 223/225\n",
            "19/19 [==============================] - 1s 52ms/step - loss: 0.0029 - val_loss: 0.0056\n",
            "Epoch 224/225\n",
            "19/19 [==============================] - 1s 52ms/step - loss: 0.0028 - val_loss: 0.0060\n",
            "Epoch 225/225\n",
            "19/19 [==============================] - 1s 52ms/step - loss: 0.0032 - val_loss: 0.0059\n"
          ]
        }
      ]
    },
    {
      "cell_type": "code",
      "source": [
        "fig = plt.figure(figsize = [15,10])\n",
        "\n",
        "plt.plot(history.history['loss'])\n",
        "plt.plot(history.history['val_loss'])\n",
        "plt.title('model loss')\n",
        "plt.ylabel('loss')\n",
        "plt.xlabel('epoch')\n",
        "plt.legend(['train', 'test'], loc='upper left')\n",
        "plt.show()\n"
      ],
      "metadata": {
        "colab": {
          "base_uri": "https://localhost:8080/",
          "height": 621
        },
        "id": "h4lFmmftsi-0",
        "outputId": "edf51b03-afe5-45f2-f96b-db8fbe8634ff"
      },
      "execution_count": 80,
      "outputs": [
        {
          "output_type": "display_data",
          "data": {
            "text/plain": [
              "<Figure size 1080x720 with 1 Axes>"
            ],
            "image/png": "[encoded data removed]"
          },
          "metadata": {
            "needs_background": "light"
          }
        }
      ]
    },
    {
      "cell_type": "code",
      "source": [
        "data_30_days_for_prediction = []\n",
        "data_next_day_for_prediction = []\n",
        "\n",
        "data_open_for_prediction = list(data.loc[data['Year'] == '2016'].Open)\n",
        "for i in range(30, len(data_open_for_prediction)-1):\n",
        "    data_30_days_for_prediction.append(data_open_for_prediction[i-30:i])\n",
        "    data_next_day_for_prediction.append(data_open_for_prediction[i+1])\n",
        "    \n",
        "data_30_days_for_prediction = np.array(data_30_days_for_prediction)\n",
        "data_next_day_for_prediction = np.array(data_next_day_for_prediction)"
      ],
      "metadata": {
        "id": "P4rKXNP6uOVf"
      },
      "execution_count": 81,
      "outputs": []
    },
    {
      "cell_type": "code",
      "source": [
        "fig = plt.figure(figsize = [15,10])\n",
        "plt.plot(np.arange(len(data_next_day_for_prediction)), data_next_day_for_prediction)\n",
        "plt.title(\"Open value in Stock Market standardized\")\n",
        "\n",
        "plt.show()"
      ],
      "metadata": {
        "colab": {
          "base_uri": "https://localhost:8080/",
          "height": 607
        },
        "id": "NdcIA4LLvI8e",
        "outputId": "8b49ec71-c775-4049-987f-a2bcb326a579"
      },
      "execution_count": 82,
      "outputs": [
        {
          "output_type": "display_data",
          "data": {
            "text/plain": [
              "<Figure size 1080x720 with 1 Axes>"
            ],
            "image/png": "[encoded data removed]"
          },
          "metadata": {
            "needs_background": "light"
          }
        }
      ]
    },
    {
      "cell_type": "code",
      "source": [
        "predictions = []\n",
        "\n",
        "for data_30_days in data_30_days_for_prediction:\n",
        "  pred = model.predict(np.array(data_30_days).reshape(1,30))\n",
        "  predictions.append(pred[0][0])"
      ],
      "metadata": {
        "id": "OlxOsGssv2hw"
      },
      "execution_count": 83,
      "outputs": []
    },
    {
      "cell_type": "code",
      "source": [
        "fig = plt.figure(figsize = [15,10])\n",
        "plt.plot(np.arange(len(data_next_day_for_prediction)), data_next_day_for_prediction, label='Actual')\n",
        "plt.plot(np.arange(len(predictions)), predictions, label='Predicted')\n",
        "plt.title(\"Open value in Stock Market standardized\")\n",
        "plt.legend()\n",
        "\n",
        "plt.show()"
      ],
      "metadata": {
        "colab": {
          "base_uri": "https://localhost:8080/",
          "height": 607
        },
        "id": "Zl-dX-wbwGYt",
        "outputId": "8a95c0cb-16f2-48a9-8cbe-1add502e871b"
      },
      "execution_count": 84,
      "outputs": [
        {
          "output_type": "display_data",
          "data": {
            "text/plain": [
              "<Figure size 1080x720 with 1 Axes>"
            ],
            "image/png": "[encoded data removed]"
          },
          "metadata": {
            "needs_background": "light"
          }
        }
      ]
    },
    {
      "cell_type": "code",
      "source": [
        ""
      ],
      "metadata": {
        "id": "pPhJA_nGwizy"
      },
      "execution_count": 84,
      "outputs": []
    }
  ]
}